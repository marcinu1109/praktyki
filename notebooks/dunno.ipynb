{
 "cells": [
  {
   "cell_type": "code",
   "execution_count": 64,
   "metadata": {},
   "outputs": [],
   "source": [
    "from src.goal_functions import ackley\n",
    "import numpy as np"
   ]
  },
  {
   "cell_type": "code",
   "execution_count": 65,
   "metadata": {},
   "outputs": [
    {
     "ename": "NameError",
     "evalue": "name 'xs' is not defined",
     "output_type": "error",
     "traceback": [
      "\u001b[0;31m---------------------------------------------------------------------------\u001b[0m",
      "\u001b[0;31mNameError\u001b[0m                                 Traceback (most recent call last)",
      "Cell \u001b[0;32mIn[65], line 1\u001b[0m\n\u001b[0;32m----> 1\u001b[0m \u001b[39mprint\u001b[39m(xs)\n\u001b[1;32m      2\u001b[0m ackley(xs)\n\u001b[1;32m      3\u001b[0m XD \u001b[39m=\u001b[39m np\u001b[39m.\u001b[39mrandom\u001b[39m.\u001b[39muniform(low\u001b[39m=\u001b[39m\u001b[39m-\u001b[39m\u001b[39m1\u001b[39m, high\u001b[39m=\u001b[39m\u001b[39m1\u001b[39m, size\u001b[39m=\u001b[39m[\u001b[39m1\u001b[39m,\u001b[39m3\u001b[39m])\n",
      "\u001b[0;31mNameError\u001b[0m: name 'xs' is not defined"
     ]
    }
   ],
   "source": [
    "print(xs)\n",
    "ackley(xs)\n",
    "XD = np.random.uniform(low=-1, high=1, size=[1,3])\n",
    "print(XD)"
   ]
  },
  {
   "cell_type": "code",
   "execution_count": 115,
   "metadata": {},
   "outputs": [],
   "source": [
    "from src.goal_functions import ackley\n",
    "import numpy as np\n",
    "\n",
    "\n",
    "class EA:\n",
    "    def __init__(self, specimen_size, offspring_size, population_size, num_iterations):\n",
    "        self.specimen_size = specimen_size\n",
    "        self.offspring_size = offspring_size\n",
    "        self.population_size = population_size\n",
    "        self.num_iterations = num_iterations\n",
    "\n",
    "    def population(self):\n",
    "        return np.random.uniform(low=-10, high=10, size=[self.population_size + self.offspring_size, self.specimen_size])\n",
    "\n",
    "    def results_fun(self, population):\n",
    "        return np.array([ackley(x) for x in population])\n",
    "\n",
    "    def combination(self, xs, ys):\n",
    "        return (xs + ys)/2\n",
    "\n",
    "    def mutation(self, xs):\n",
    "        return xs + np.random.uniform(low=-1, high=1, size=len(xs))\n",
    "\n",
    "    def mutation_2(xs):\n",
    "        return xs + 1 #sposoby mutacji\n",
    "\n",
    "    def algorithm(self):\n",
    "        population = self.population()\n",
    "        results = self.results_fun(population)\n",
    "        for _ in range(self.num_iterations):\n",
    "            for i in range(self.offspring_size):\n",
    "                a, b = np.random.randint(low=0, high = self.population_size - 1, size=2)\n",
    "                child = self.combination(population[a], population[b])\n",
    "                child = self.mutation(child)\n",
    "                population[i+self.population_size] = child\n",
    "                results[i+self.population_size] = ackley(population[i+self.population_size])\n",
    "\n",
    "            indicies = np.argsort(results)\n",
    "            population = population[indicies]\n",
    "            results = results[indicies]\n",
    "        return results, population\n",
    "\n",
    "    \n",
    "north_sentinel = EA(3, 10, 10, 10000) #specimen_size, offspring_size, population_size, num_iterations\n",
    "results, population = north_sentinel.algorithm()\n",
    "\n",
    "\n",
    "\n",
    "\n",
    "\n",
    "\n"
   ]
  },
  {
   "cell_type": "code",
   "execution_count": 116,
   "metadata": {},
   "outputs": [
    {
     "name": "stdout",
     "output_type": "stream",
     "text": [
      "[[-2.11160279e-02  1.37242326e-02 -5.47010906e-03]\n",
      " [ 2.73604246e-02  1.74540604e-02  3.80431067e-03]\n",
      " [-1.00599983e-02 -3.05788091e-02  8.90710936e-03]\n",
      " [ 2.53563239e-02  2.24958648e-02  6.59372672e-03]\n",
      " [-1.76404527e-02 -1.47786036e-02 -2.58374748e-02]\n",
      " [-1.65941836e-02  2.20359005e-02  2.61871017e-02]\n",
      " [-2.81210115e-02 -2.80954929e-02  3.20289419e-03]\n",
      " [ 1.43618801e-02 -3.77530873e-02 -6.31709403e-03]\n",
      " [ 3.72234970e-02  1.86397802e-02 -4.90803800e-04]\n",
      " [-1.76826378e-02 -3.11342939e-02  2.88002973e-02]\n",
      " [ 1.07795845e-01 -1.93006411e-01  4.85189794e-01]\n",
      " [-1.83650705e-01  5.77028922e-01  1.88547796e-01]\n",
      " [-5.92782174e-01  4.53552463e-01  1.29378372e-01]\n",
      " [ 6.91878415e-02  6.25089317e-01 -8.45895889e-01]\n",
      " [-8.79147615e-01 -8.42414175e-01 -9.65988280e-01]\n",
      " [ 2.54182037e-01  7.06002017e-01 -9.35070281e-01]\n",
      " [ 4.47714378e-01  3.24771524e-01 -9.67935975e-01]\n",
      " [ 8.23037491e-01 -4.01202480e-01 -8.42757527e-01]\n",
      " [-4.21999686e-01  7.75590833e-01 -7.95805416e-01]\n",
      " [ 5.96493207e-01 -7.09902473e-01 -8.34859677e-01]]\n",
      "\n",
      "[0.07126721 0.09431095 0.09681514 0.10079595 0.10103962 0.11335398\n",
      " 0.12011136 0.12380476 0.12662152 0.14324167 2.8667589  3.16456994\n",
      " 3.70152495 3.71891631 3.8862237  4.07490949 4.26451143 4.33342\n",
      " 4.41927425 4.57282029]\n"
     ]
    }
   ],
   "source": [
    "\n",
    "\n",
    "print(population)\n",
    "print()\n",
    "print(results)"
   ]
  },
  {
   "cell_type": "code",
   "execution_count": 24,
   "metadata": {},
   "outputs": [
    {
     "data": {
      "text/plain": [
       "array([ 0,  8,  7,  6,  5,  9,  3,  2,  1,  4, 15, 17, 13, 19, 14, 10, 18,\n",
       "       11, 12, 16])"
      ]
     },
     "execution_count": 24,
     "metadata": {},
     "output_type": "execute_result"
    }
   ],
   "source": [
    "indicies"
   ]
  }
 ],
 "metadata": {
  "kernelspec": {
   "display_name": "ewolucja",
   "language": "python",
   "name": "python3"
  },
  "language_info": {
   "codemirror_mode": {
    "name": "ipython",
    "version": 3
   },
   "file_extension": ".py",
   "mimetype": "text/x-python",
   "name": "python",
   "nbconvert_exporter": "python",
   "pygments_lexer": "ipython3",
   "version": "3.10.10"
  },
  "orig_nbformat": 4
 },
 "nbformat": 4,
 "nbformat_minor": 2
}
