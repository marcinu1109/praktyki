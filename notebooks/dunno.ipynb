{
 "cells": [
  {
   "cell_type": "code",
   "execution_count": 20,
   "metadata": {},
   "outputs": [],
   "source": [
    "from src.goal_functions import ackley\n",
    "import numpy as np"
   ]
  },
  {
   "cell_type": "code",
   "execution_count": 261,
   "metadata": {},
   "outputs": [
    {
     "name": "stdout",
     "output_type": "stream",
     "text": [
      "[[5.51148079 5.8028425  4.09320459]]\n",
      "[[-0.05754415 -0.84954142 -0.47676002]]\n"
     ]
    }
   ],
   "source": [
    "print(xs)\n",
    "ackley(xs)\n",
    "XD = np.random.uniform(low=-1, high=1, size=[1,3])\n",
    "print(XD)"
   ]
  },
  {
   "cell_type": "code",
   "execution_count": 63,
   "metadata": {},
   "outputs": [
    {
     "ename": "IndexError",
     "evalue": "only integers, slices (`:`), ellipsis (`...`), numpy.newaxis (`None`) and integer or boolean arrays are valid indices",
     "output_type": "error",
     "traceback": [
      "\u001b[0;31m---------------------------------------------------------------------------\u001b[0m",
      "\u001b[0;31mIndexError\u001b[0m                                Traceback (most recent call last)",
      "Cell \u001b[0;32mIn[63], line 43\u001b[0m\n\u001b[1;32m     41\u001b[0m j \u001b[39m=\u001b[39m i\u001b[39m%\u001b[39m\u001b[39m20\u001b[39m\n\u001b[1;32m     42\u001b[0m \u001b[39mif\u001b[39;00m i\u001b[39m%\u001b[39m\u001b[39m2\u001b[39m\u001b[39m==\u001b[39m\u001b[39m0\u001b[39m:\n\u001b[0;32m---> 43\u001b[0m     tab[j\u001b[39m/\u001b[39;49m\u001b[39m2\u001b[39;49m\u001b[39m+\u001b[39;49m\u001b[39m9\u001b[39;49m] \u001b[39m=\u001b[39m (tab[np\u001b[39m.\u001b[39mrandom\u001b[39m.\u001b[39mrandint(low\u001b[39m=\u001b[39m\u001b[39m0\u001b[39m, high\u001b[39m=\u001b[39m\u001b[39m9\u001b[39m), \u001b[39m0\u001b[39m:\u001b[39m3\u001b[39m] \u001b[39m+\u001b[39m tab[np\u001b[39m.\u001b[39mrandom\u001b[39m.\u001b[39mrandint(low\u001b[39m=\u001b[39m\u001b[39m0\u001b[39m, high\u001b[39m=\u001b[39m\u001b[39m9\u001b[39m), \u001b[39m0\u001b[39m:\u001b[39m3\u001b[39m])\u001b[39m/\u001b[39m\u001b[39m2\u001b[39m \u001b[39m+\u001b[39m [np\u001b[39m.\u001b[39mrandom\u001b[39m.\u001b[39muniform(low\u001b[39m=\u001b[39m\u001b[39m-\u001b[39m\u001b[39m1\u001b[39m, high\u001b[39m=\u001b[39m\u001b[39m1\u001b[39m, size\u001b[39m=\u001b[39m[\u001b[39m1\u001b[39m,\u001b[39m3\u001b[39m])]\n\u001b[1;32m     44\u001b[0m acktab[j] \u001b[39m=\u001b[39m ackley(tab[j, \u001b[39m0\u001b[39m:\u001b[39m3\u001b[39m])\n\u001b[1;32m     46\u001b[0m \u001b[39mif\u001b[39;00m j\u001b[39m==\u001b[39m\u001b[39m0\u001b[39m:\n",
      "\u001b[0;31mIndexError\u001b[0m: only integers, slices (`:`), ellipsis (`...`), numpy.newaxis (`None`) and integer or boolean arrays are valid indices"
     ]
    }
   ],
   "source": [
    "\n",
    "\n",
    "#tab[:3] - wypisze 3 pierwsze miejsca z tablicy\n",
    "# axis\n",
    "\n",
    "#tab = [\n",
    "#    #a  b  c \n",
    "#    [1, 2, 3], #0       top 10 posortowanych wyników\n",
    "#    [4, 5, 6], #1\n",
    "#    [0, 0, 0], #2\n",
    "#    [0, 0, 0], #3\n",
    "#    [0, 0, 0], #4\n",
    "#    [0, 0, 0], #5\n",
    "#    [0, 0, 0], #6\n",
    "#    [0, 0, 0], #7\n",
    "#    [0, 0, 0], #8\n",
    "#    [0, 0, 0], #9\n",
    "#       ]\n",
    "\n",
    "from src.goal_functions import ackley\n",
    "import numpy as np\n",
    "\n",
    "tab = np.zeros((20, 3))\n",
    "tab = np.random.uniform(low=-10, high=10, size=[10,3]) #xr = x random\n",
    "    \n",
    "\n",
    "#for j in range(9):\n",
    "#    for i in range(9-j):\n",
    "#        if ackley(tab[i]) > ackley(tab[i+1]):\n",
    "#            sort1 = tab[i]\n",
    "#            tab[i] = tab[i+1]\n",
    "#            tab[i+1] = sort1\n",
    "\n",
    "#xs = np.random.uniform(low=0, high=10, size=[1,3])\n",
    "\n",
    "acktab = np.zeros(20)\n",
    "\n",
    "for i in range(1000):\n",
    "    \n",
    "#print(tab[0:10, 0:3])\n",
    "\n",
    "# i%10\n",
    "    j = i%20\n",
    "    if i%2==0:\n",
    "        tab[j/2+9] = (tab[np.random.randint(low=0, high=9), 0:3] + tab[np.random.randint(low=0, high=9), 0:3])/2 + [np.random.uniform(low=-1, high=1, size=[1,3])]\n",
    "    acktab[j] = ackley(tab[j, 0:3])\n",
    "\n",
    "    if j==0:\n",
    "        np.argsort(acktab)\n",
    "\n",
    "\n",
    "\n",
    "\n",
    "\n",
    "\n",
    "    #srednia = (tab[np.random.randint(low=0, high=9)] + tab[np.random.randint(low=0, high=9)])/2\n",
    "    #tab[i+10] = srednia + [np.random.uniform(low=-1, high=1, size=[1,3])]\n"
   ]
  },
  {
   "cell_type": "code",
   "execution_count": 37,
   "metadata": {},
   "outputs": [
    {
     "name": "stdout",
     "output_type": "stream",
     "text": [
      "[-0.88060223 -2.16026154 -3.7313793 ]\n",
      "\n",
      "[-8.71267793  5.1923532  -9.02632722  6.59190173 -0.61198711  0.48448103\n",
      "  9.93640566 -1.63158285  0.36138247]\n"
     ]
    }
   ],
   "source": [
    "\n",
    "print(tab[0:3, 0])\n",
    "print()\n",
    "print(tab[0:9, 1])"
   ]
  }
 ],
 "metadata": {
  "kernelspec": {
   "display_name": "ewolucja",
   "language": "python",
   "name": "python3"
  },
  "language_info": {
   "codemirror_mode": {
    "name": "ipython",
    "version": 3
   },
   "file_extension": ".py",
   "mimetype": "text/x-python",
   "name": "python",
   "nbconvert_exporter": "python",
   "pygments_lexer": "ipython3",
   "version": "3.10.10"
  },
  "orig_nbformat": 4
 },
 "nbformat": 4,
 "nbformat_minor": 2
}
